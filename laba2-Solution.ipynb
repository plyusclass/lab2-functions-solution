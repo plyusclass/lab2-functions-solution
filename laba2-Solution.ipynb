{
 "cells": [
  {
   "cell_type": "markdown",
   "metadata": {},
   "source": [
    "# Домашняя работа №2 (Курс \"Advanced Python\")\n",
    "## ФИО:"
   ]
  },
  {
   "cell_type": "markdown",
   "metadata": {},
   "source": [
    "**Тема:** Функции в Python  \n",
    "**Выдана:** 16.09  \n",
    "**Дедлайн выполнения:**  22.09  "
   ]
  },
  {
   "cell_type": "markdown",
   "metadata": {},
   "source": [
    "Правила: Результат выполнения задания - отчет в формате Jupyter Notebook с кодом и выводами. В ходе выполнения задания требуется реализовать все необходимые алгоритмы, провести эксперименты и ответить на поставленные вопросы. Дополнительные выводы приветствуются. Чем меньше кода и больше комментариев - тем лучше.\n",
    "\n",
    "Все ячейки должны быть \"выполненными\", при этом результат должен воспроизвдиться при проверке.\n",
    "\n",
    "Задание выполняется самостоятельно. Если вы нашли в Интернете какой-то код, который собираетесь заимствовать, обязательно укажите это в задании. Если вы советовались с товарищем и/или позаимствовали его решение, обязательно укажите об этом в отчете. Нет ничего плохого в том, что вы пытаетесь разобраться и помогаете друг другу; плохо - когда вы скрываете это и выдаете чужие заслуги за свои. При обнаружении списывания ВСЕМ студентам, имеющим одинаковые списанные решения будет выставлен ОТРИЦАТЕЛЬНЫЙ балл (т.е если задача стоит 4 балла, вы получите не 0, а -4), \"оригинал\" искаться не будет\n",
    "\n",
    "Задание, сданное после жесткого дедлайна, не принимается."
   ]
  },
  {
   "cell_type": "markdown",
   "metadata": {},
   "source": [
    "### Задача 1: (2 балла)"
   ]
  },
  {
   "cell_type": "markdown",
   "metadata": {},
   "source": [
    "Реализуйте функцию, которая будет вычислять количество различных объектов в переданном ей списке.   \n",
    "Два объекта a и b считаются различными, если a is b равно False."
   ]
  },
  {
   "cell_type": "code",
   "execution_count": 1,
   "metadata": {
    "collapsed": true
   },
   "outputs": [],
   "source": [
    "#ваш код здесь\n",
    "def count_different_objects(objects):\n",
    "    ids_set = set()\n",
    "    for obj in objects: \n",
    "        ids_set.add(id(obj))\n",
    "\n",
    "    return len(ids_set)"
   ]
  },
  {
   "cell_type": "code",
   "execution_count": 2,
   "metadata": {},
   "outputs": [
    {
     "data": {
      "text/plain": [
       "5"
      ]
     },
     "execution_count": 2,
     "metadata": {},
     "output_type": "execute_result"
    }
   ],
   "source": [
    "count_different_objects([1,2,3,1,2,3,[],[]])"
   ]
  },
  {
   "cell_type": "markdown",
   "metadata": {},
   "source": [
    "### Задача 2: (1 балл)\n",
    "Реализуйте функцию, которая будет вычислять количество различных объектов среди переданных ей аргументов.   \n",
    "Два объекта a и b считаются различными, если a is b равно False.    "
   ]
  },
  {
   "cell_type": "code",
   "execution_count": 3,
   "metadata": {
    "collapsed": true
   },
   "outputs": [],
   "source": [
    "#ваш код здесь\n",
    "def count_different_objects_in_args(*args):\n",
    "    return count_different_objects(args)"
   ]
  },
  {
   "cell_type": "code",
   "execution_count": 4,
   "metadata": {},
   "outputs": [
    {
     "data": {
      "text/plain": [
       "5"
      ]
     },
     "execution_count": 4,
     "metadata": {},
     "output_type": "execute_result"
    }
   ],
   "source": [
    "count_different_objects_in_args(1,2,3,1,2,3,[],[])"
   ]
  },
  {
   "cell_type": "markdown",
   "metadata": {},
   "source": [
    "### Задача 3: (2 балла)\n",
    "Реализуйте функцию, которая будет вычислять общее количество различных объектов, которые содержатся в ее аргументах, т.е например  \n",
    "n_different([0, 1, 2], [[2, 3, 4], [5 , 6]], 6) == 7 (за числа) + 1 (за первый лист) + 2 (за два вложенных листа во втором аргументе) + 1 (за лист из второго аргумента)"
   ]
  },
  {
   "cell_type": "code",
   "execution_count": 5,
   "metadata": {
    "collapsed": true
   },
   "outputs": [],
   "source": [
    "from collections.abc import Iterable #Итерационный тип (iterable objects)\n",
    "\n",
    "def n_different(*args, return_id_set=False):    \n",
    "    assert(len(args) >= 0)\n",
    "    \n",
    "    different_ids = set()\n",
    "    for arg in args:\n",
    "        #Добавляем id текущего аргумента\n",
    "        different_ids.add(id(arg))\n",
    "        \n",
    "        #Если текущий аргумент - словарь, надо добавить объекты-ключи и объекты-значения\n",
    "        if (isinstance(arg, dict)): \n",
    "            keys = list(arg.keys())\n",
    "            values = list(arg.values())\n",
    "            different_ids.update(n_different(*keys, return_id_set=True), n_different(*values, return_id_set=True))\n",
    "            \n",
    "        #Если текущий аргумент - итерационный и не строка, то надо рекурсивно добавить внутренние элеименты, раскрыв массив\n",
    "        if (isinstance(arg, Iterable)) and (not isinstance(arg, str)) and (not isinstance(arg, dict)):\n",
    "            different_ids.update(n_different(*arg, return_id_set=True))\n",
    "            \n",
    "    #В зависимости от return_id_set возвращаем либо само множество, либо его длину\n",
    "    if return_id_set:     \n",
    "        return different_ids\n",
    "    else:\n",
    "        return len(different_ids)"
   ]
  },
  {
   "cell_type": "code",
   "execution_count": 6,
   "metadata": {},
   "outputs": [
    {
     "data": {
      "text/plain": [
       "12"
      ]
     },
     "execution_count": 6,
     "metadata": {},
     "output_type": "execute_result"
    }
   ],
   "source": [
    "n_different({\"Ключ1\":[1,2], \"Ключ2\":[2,3]}, 1, 2, True, None, [[]])\n",
    "#{\"Ключ1\":1, \"Ключ2\":2}, \"Ключ1\", \"Ключ2\", [1,2], [2,3], 1, 2, 3, True, None, [[]], [] - всего 12 объектов"
   ]
  }
 ],
 "metadata": {
  "kernelspec": {
   "display_name": "Python 3",
   "language": "python",
   "name": "python3"
  },
  "language_info": {
   "codemirror_mode": {
    "name": "ipython",
    "version": 3
   },
   "file_extension": ".py",
   "mimetype": "text/x-python",
   "name": "python",
   "nbconvert_exporter": "python",
   "pygments_lexer": "ipython3",
   "version": "3.6.4"
  }
 },
 "nbformat": 4,
 "nbformat_minor": 2
}
